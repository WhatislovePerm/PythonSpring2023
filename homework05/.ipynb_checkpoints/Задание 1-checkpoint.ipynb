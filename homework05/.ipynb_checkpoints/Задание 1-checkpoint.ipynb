{
 "cells": [
  {
   "cell_type": "code",
   "execution_count": 1,
   "id": "e20cba13",
   "metadata": {},
   "outputs": [
    {
     "name": "stdout",
     "output_type": "stream",
     "text": [
      "1 2 3 4 5\n",
      "['1', '3', '5']\n"
     ]
    }
   ],
   "source": [
    "#Вывести четные индексы в одну строку\n",
    "print((input().split())[::2])"
   ]
  },
  {
   "cell_type": "code",
   "execution_count": 2,
   "id": "0e6a5c80",
   "metadata": {},
   "outputs": [
    {
     "name": "stdout",
     "output_type": "stream",
     "text": [
      "1 3 2 5 4\n",
      "5 3\n"
     ]
    }
   ],
   "source": [
    "#Наибольший элемент и его индекс 2 строки\n",
    "x = input().split()\n",
    "print(max(x), x.index(max(x)))"
   ]
  },
  {
   "cell_type": "code",
   "execution_count": 40,
   "id": "a74ecfdb",
   "metadata": {},
   "outputs": [
    {
     "name": "stdout",
     "output_type": "stream",
     "text": [
      "1 2 3 4 5\n",
      "5 4 3 2 1\n"
     ]
    }
   ],
   "source": [
    "#Вывод наоборот в одну строку\n",
    "print(*input().split()[::-1])"
   ]
  },
  {
   "cell_type": "code",
   "execution_count": 39,
   "id": "7ff33931",
   "metadata": {},
   "outputs": [
    {
     "name": "stdout",
     "output_type": "stream",
     "text": [
      "1 2 3 4 5\n",
      "2 1 4 3 5\n"
     ]
    }
   ],
   "source": [
    "#Переставить соседние элементы в 3 строки\n",
    "x = input().split()\n",
    "x[1::2], x[:-1:2] = x[:-1:2], x[1::2]\n",
    "print(*x)\n"
   ]
  },
  {
   "cell_type": "code",
   "execution_count": 7,
   "id": "aacd4137",
   "metadata": {},
   "outputs": [
    {
     "name": "stdout",
     "output_type": "stream",
     "text": [
      "1 2 3 4\n",
      "4 1 2 3\n"
     ]
    }
   ],
   "source": [
    "#Циклический сдвиг вправо в 2 строки\n",
    "x = input().split()\n",
    "print(x[len(x) - 1], *(x[::1])[:len(x)-1])"
   ]
  },
  {
   "cell_type": "code",
   "execution_count": 9,
   "id": "ebcf40cd",
   "metadata": {},
   "outputs": [
    {
     "name": "stdout",
     "output_type": "stream",
     "text": [
      "1 2 3 4\n",
      "2\n",
      "['1', '3', '4']\n"
     ]
    }
   ],
   "source": [
    "#Удалить элемент в 3 строки\n",
    "x = input().split()\n",
    "x.remove(input())\n",
    "print(*x)"
   ]
  },
  {
   "cell_type": "code",
   "execution_count": 19,
   "id": "461dee57",
   "metadata": {},
   "outputs": [
    {
     "name": "stdout",
     "output_type": "stream",
     "text": [
      "7 6 5 4 3 2 1 \n",
      "2 0\n",
      "7 6 0 5 4 3 2 1\n"
     ]
    }
   ],
   "source": [
    "#Вставить элемент в 3 строки\n",
    "x = input().split()\n",
    "n, elem = map(int, input().split()) \n",
    "print(*x[:n], elem , *x[n:])"
   ]
  },
  {
   "cell_type": "code",
   "execution_count": null,
   "id": "f49b0d60",
   "metadata": {},
   "outputs": [],
   "source": [
    "# Большой сдвиг в 2 строки"
   ]
  },
  {
   "cell_type": "code",
   "execution_count": 34,
   "id": "6c4f38e4",
   "metadata": {},
   "outputs": [
    {
     "name": "stdout",
     "output_type": "stream",
     "text": [
      "5 3 7 4 6\n",
      "3\n",
      "7 4 6 5 3\n"
     ]
    }
   ],
   "source": [
    "x, _step = input().split(), int(input())\n",
    "print(*x[(n - _step - 2):], *x[:(n - _step - 2)])"
   ]
  },
  {
   "cell_type": "code",
   "execution_count": null,
   "id": "bf75da4e",
   "metadata": {},
   "outputs": [],
   "source": []
  }
 ],
 "metadata": {
  "kernelspec": {
   "display_name": "Python 3 (ipykernel)",
   "language": "python",
   "name": "python3"
  },
  "language_info": {
   "codemirror_mode": {
    "name": "ipython",
    "version": 3
   },
   "file_extension": ".py",
   "mimetype": "text/x-python",
   "name": "python",
   "nbconvert_exporter": "python",
   "pygments_lexer": "ipython3",
   "version": "3.9.12"
  }
 },
 "nbformat": 4,
 "nbformat_minor": 5
}
